{
 "cells": [
  {
   "cell_type": "code",
   "execution_count": 1,
   "id": "1e7fd831",
   "metadata": {},
   "outputs": [
    {
     "data": {
      "text/plain": [
       "['merged_dataframe', 'parameters']"
      ]
     },
     "execution_count": 1,
     "metadata": {},
     "output_type": "execute_result"
    }
   ],
   "source": [
    "catalog.list()"
   ]
  },
  {
   "cell_type": "code",
   "execution_count": 2,
   "id": "5261c98f",
   "metadata": {},
   "outputs": [
    {
     "data": {
      "text/html": [
       "<pre style=\"white-space:pre;overflow-x:auto;line-height:normal;font-family:Menlo,'DejaVu Sans Mono',consolas,'Courier New',monospace\"><span style=\"color: #7fbfbf; text-decoration-color: #7fbfbf\">[03/18/23 15:43:12] </span><span style=\"color: #000080; text-decoration-color: #000080\">INFO    </span> Loading data from <span style=\"color: #008000; text-decoration-color: #008000\">'merged_dataframe'</span> <span style=\"font-weight: bold\">(</span>CSVDataSet<span style=\"font-weight: bold\">)</span><span style=\"color: #808000; text-decoration-color: #808000\">...</span>               <a href=\"file:///Users/scordobay/Documents/CienciaDatos/TrabajoFinal/lib/python3.8/site-packages/kedro/io/data_catalog.py\" target=\"_blank\"><span style=\"color: #7f7f7f; text-decoration-color: #7f7f7f\">data_catalog.py</span></a><span style=\"color: #7f7f7f; text-decoration-color: #7f7f7f\">:</span><a href=\"file:///Users/scordobay/Documents/CienciaDatos/TrabajoFinal/lib/python3.8/site-packages/kedro/io/data_catalog.py#343\" target=\"_blank\"><span style=\"color: #7f7f7f; text-decoration-color: #7f7f7f\">343</span></a>\n",
       "</pre>\n"
      ],
      "text/plain": [
       "\u001b[2;36m[03/18/23 15:43:12]\u001b[0m\u001b[2;36m \u001b[0m\u001b[34mINFO    \u001b[0m Loading data from \u001b[32m'merged_dataframe'\u001b[0m \u001b[1m(\u001b[0mCSVDataSet\u001b[1m)\u001b[0m\u001b[33m...\u001b[0m               \u001b]8;id=141841;file:///Users/scordobay/Documents/CienciaDatos/TrabajoFinal/lib/python3.8/site-packages/kedro/io/data_catalog.py\u001b\\\u001b[2mdata_catalog.py\u001b[0m\u001b]8;;\u001b\\\u001b[2m:\u001b[0m\u001b]8;id=187623;file:///Users/scordobay/Documents/CienciaDatos/TrabajoFinal/lib/python3.8/site-packages/kedro/io/data_catalog.py#343\u001b\\\u001b[2m343\u001b[0m\u001b]8;;\u001b\\\n"
      ]
     },
     "metadata": {},
     "output_type": "display_data"
    },
    {
     "data": {
      "text/html": [
       "<div>\n",
       "<style scoped>\n",
       "    .dataframe tbody tr th:only-of-type {\n",
       "        vertical-align: middle;\n",
       "    }\n",
       "\n",
       "    .dataframe tbody tr th {\n",
       "        vertical-align: top;\n",
       "    }\n",
       "\n",
       "    .dataframe thead th {\n",
       "        text-align: right;\n",
       "    }\n",
       "</style>\n",
       "<table border=\"1\" class=\"dataframe\">\n",
       "  <thead>\n",
       "    <tr style=\"text-align: right;\">\n",
       "      <th></th>\n",
       "      <th>file</th>\n",
       "      <th>time</th>\n",
       "      <th>latitude</th>\n",
       "      <th>longitude</th>\n",
       "      <th>elevation</th>\n",
       "    </tr>\n",
       "  </thead>\n",
       "  <tbody>\n",
       "    <tr>\n",
       "      <th>0</th>\n",
       "      <td>data/01_raw/03-Mar-2023-1714.gpx</td>\n",
       "      <td>2023-03-03 21:56:07+00:00</td>\n",
       "      <td>6.222098</td>\n",
       "      <td>-75.595565</td>\n",
       "      <td>1513.948643</td>\n",
       "    </tr>\n",
       "    <tr>\n",
       "      <th>1</th>\n",
       "      <td>data/01_raw/03-Mar-2023-1714.gpx</td>\n",
       "      <td>2023-03-03 21:56:08+00:00</td>\n",
       "      <td>6.222059</td>\n",
       "      <td>-75.595589</td>\n",
       "      <td>1515.275059</td>\n",
       "    </tr>\n",
       "    <tr>\n",
       "      <th>2</th>\n",
       "      <td>data/01_raw/03-Mar-2023-1714.gpx</td>\n",
       "      <td>2023-03-03 21:56:09+00:00</td>\n",
       "      <td>6.222005</td>\n",
       "      <td>-75.595540</td>\n",
       "      <td>1513.873692</td>\n",
       "    </tr>\n",
       "    <tr>\n",
       "      <th>3</th>\n",
       "      <td>data/01_raw/03-Mar-2023-1714.gpx</td>\n",
       "      <td>2023-03-03 21:56:10+00:00</td>\n",
       "      <td>6.221976</td>\n",
       "      <td>-75.595518</td>\n",
       "      <td>1515.027622</td>\n",
       "    </tr>\n",
       "    <tr>\n",
       "      <th>4</th>\n",
       "      <td>data/01_raw/03-Mar-2023-1714.gpx</td>\n",
       "      <td>2023-03-03 21:56:11+00:00</td>\n",
       "      <td>6.222175</td>\n",
       "      <td>-75.595691</td>\n",
       "      <td>1521.794956</td>\n",
       "    </tr>\n",
       "    <tr>\n",
       "      <th>...</th>\n",
       "      <td>...</td>\n",
       "      <td>...</td>\n",
       "      <td>...</td>\n",
       "      <td>...</td>\n",
       "      <td>...</td>\n",
       "    </tr>\n",
       "    <tr>\n",
       "      <th>19737</th>\n",
       "      <td>data/01_raw/recovery.25-May-2022-0907.gpx</td>\n",
       "      <td>2022-05-26 14:32:21+00:00</td>\n",
       "      <td>6.208590</td>\n",
       "      <td>-75.571338</td>\n",
       "      <td>1553.610000</td>\n",
       "    </tr>\n",
       "    <tr>\n",
       "      <th>19738</th>\n",
       "      <td>data/01_raw/recovery.25-May-2022-0907.gpx</td>\n",
       "      <td>2022-05-26 14:32:27+00:00</td>\n",
       "      <td>6.208485</td>\n",
       "      <td>-75.571341</td>\n",
       "      <td>1548.820000</td>\n",
       "    </tr>\n",
       "    <tr>\n",
       "      <th>19739</th>\n",
       "      <td>data/01_raw/recovery.25-May-2022-0907.gpx</td>\n",
       "      <td>2022-05-26 14:32:34+00:00</td>\n",
       "      <td>6.208457</td>\n",
       "      <td>-75.571435</td>\n",
       "      <td>1549.020000</td>\n",
       "    </tr>\n",
       "    <tr>\n",
       "      <th>19740</th>\n",
       "      <td>data/01_raw/recovery.25-May-2022-0907.gpx</td>\n",
       "      <td>2022-05-26 14:32:41+00:00</td>\n",
       "      <td>6.208468</td>\n",
       "      <td>-75.571525</td>\n",
       "      <td>1559.750000</td>\n",
       "    </tr>\n",
       "    <tr>\n",
       "      <th>19741</th>\n",
       "      <td>data/01_raw/recovery.25-May-2022-0907.gpx</td>\n",
       "      <td>2022-05-26 14:32:49+00:00</td>\n",
       "      <td>6.208512</td>\n",
       "      <td>-75.571616</td>\n",
       "      <td>1559.330000</td>\n",
       "    </tr>\n",
       "  </tbody>\n",
       "</table>\n",
       "<p>19742 rows × 5 columns</p>\n",
       "</div>"
      ],
      "text/plain": [
       "                                            file                       time  \\\n",
       "0               data/01_raw/03-Mar-2023-1714.gpx  2023-03-03 21:56:07+00:00   \n",
       "1               data/01_raw/03-Mar-2023-1714.gpx  2023-03-03 21:56:08+00:00   \n",
       "2               data/01_raw/03-Mar-2023-1714.gpx  2023-03-03 21:56:09+00:00   \n",
       "3               data/01_raw/03-Mar-2023-1714.gpx  2023-03-03 21:56:10+00:00   \n",
       "4               data/01_raw/03-Mar-2023-1714.gpx  2023-03-03 21:56:11+00:00   \n",
       "...                                          ...                        ...   \n",
       "19737  data/01_raw/recovery.25-May-2022-0907.gpx  2022-05-26 14:32:21+00:00   \n",
       "19738  data/01_raw/recovery.25-May-2022-0907.gpx  2022-05-26 14:32:27+00:00   \n",
       "19739  data/01_raw/recovery.25-May-2022-0907.gpx  2022-05-26 14:32:34+00:00   \n",
       "19740  data/01_raw/recovery.25-May-2022-0907.gpx  2022-05-26 14:32:41+00:00   \n",
       "19741  data/01_raw/recovery.25-May-2022-0907.gpx  2022-05-26 14:32:49+00:00   \n",
       "\n",
       "       latitude  longitude    elevation  \n",
       "0      6.222098 -75.595565  1513.948643  \n",
       "1      6.222059 -75.595589  1515.275059  \n",
       "2      6.222005 -75.595540  1513.873692  \n",
       "3      6.221976 -75.595518  1515.027622  \n",
       "4      6.222175 -75.595691  1521.794956  \n",
       "...         ...        ...          ...  \n",
       "19737  6.208590 -75.571338  1553.610000  \n",
       "19738  6.208485 -75.571341  1548.820000  \n",
       "19739  6.208457 -75.571435  1549.020000  \n",
       "19740  6.208468 -75.571525  1559.750000  \n",
       "19741  6.208512 -75.571616  1559.330000  \n",
       "\n",
       "[19742 rows x 5 columns]"
      ]
     },
     "execution_count": 2,
     "metadata": {},
     "output_type": "execute_result"
    }
   ],
   "source": [
    "catalog.load('merged_dataframe')"
   ]
  },
  {
   "cell_type": "code",
   "execution_count": null,
   "id": "17957ec0",
   "metadata": {},
   "outputs": [],
   "source": []
  }
 ],
 "metadata": {
  "kernelspec": {
   "display_name": "Kedro (gpx_dashboard)",
   "language": "python",
   "name": "kedro_gpx_dashboard"
  },
  "language_info": {
   "codemirror_mode": {
    "name": "ipython",
    "version": 3
   },
   "file_extension": ".py",
   "mimetype": "text/x-python",
   "name": "python",
   "nbconvert_exporter": "python",
   "pygments_lexer": "ipython3",
   "version": "3.8.16"
  }
 },
 "nbformat": 4,
 "nbformat_minor": 5
}
