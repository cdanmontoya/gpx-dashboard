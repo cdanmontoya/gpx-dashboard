{
 "cells": [
  {
   "cell_type": "code",
   "execution_count": 1,
   "id": "a1ee4bd0-3cbf-479c-8aa9-78796896d3aa",
   "metadata": {
    "tags": []
   },
   "outputs": [
    {
     "data": {
      "text/html": [
       "<pre style=\"white-space:pre;overflow-x:auto;line-height:normal;font-family:Menlo,'DejaVu Sans Mono',consolas,'Courier New',monospace\"><span style=\"color: #7fbfbf; text-decoration-color: #7fbfbf\">[03/23/23 21:42:47] </span><span style=\"color: #000080; text-decoration-color: #000080\">INFO    </span> Loading data from <span style=\"color: #008000; text-decoration-color: #008000\">'enriched_df'</span> <span style=\"font-weight: bold\">(</span>CSVDataSet<span style=\"font-weight: bold\">)</span><span style=\"color: #808000; text-decoration-color: #808000\">...</span>                    <a href=\"file:///home/cdanmontoya/.cache/pypoetry/virtualenvs/gpx-dashboard-N2OiNTXu-py3.9/lib/python3.9/site-packages/kedro/io/data_catalog.py\" target=\"_blank\"><span style=\"color: #7f7f7f; text-decoration-color: #7f7f7f\">data_catalog.py</span></a><span style=\"color: #7f7f7f; text-decoration-color: #7f7f7f\">:</span><a href=\"file:///home/cdanmontoya/.cache/pypoetry/virtualenvs/gpx-dashboard-N2OiNTXu-py3.9/lib/python3.9/site-packages/kedro/io/data_catalog.py#343\" target=\"_blank\"><span style=\"color: #7f7f7f; text-decoration-color: #7f7f7f\">343</span></a>\n",
       "</pre>\n"
      ],
      "text/plain": [
       "\u001b[2;36m[03/23/23 21:42:47]\u001b[0m\u001b[2;36m \u001b[0m\u001b[34mINFO    \u001b[0m Loading data from \u001b[32m'enriched_df'\u001b[0m \u001b[1m(\u001b[0mCSVDataSet\u001b[1m)\u001b[0m\u001b[33m...\u001b[0m                    \u001b]8;id=802122;file:///home/cdanmontoya/.cache/pypoetry/virtualenvs/gpx-dashboard-N2OiNTXu-py3.9/lib/python3.9/site-packages/kedro/io/data_catalog.py\u001b\\\u001b[2mdata_catalog.py\u001b[0m\u001b]8;;\u001b\\\u001b[2m:\u001b[0m\u001b]8;id=342127;file:///home/cdanmontoya/.cache/pypoetry/virtualenvs/gpx-dashboard-N2OiNTXu-py3.9/lib/python3.9/site-packages/kedro/io/data_catalog.py#343\u001b\\\u001b[2m343\u001b[0m\u001b]8;;\u001b\\\n"
      ]
     },
     "metadata": {},
     "output_type": "display_data"
    }
   ],
   "source": [
    "import pandas as pd\n",
    "\n",
    "df = catalog.load('enriched_df')"
   ]
  },
  {
   "cell_type": "code",
   "execution_count": 2,
   "id": "c1b726bb-e0d0-4be8-a883-abdbb19574cd",
   "metadata": {
    "tags": []
   },
   "outputs": [],
   "source": [
    "def parse_datetime(df: pd.DataFrame) -> pd.DataFrame:\n",
    "    df['time'] = pd.to_datetime(df.time)\n",
    "    return df"
   ]
  },
  {
   "cell_type": "code",
   "execution_count": 3,
   "id": "2ba19e08-1b7a-4dfd-bc34-803f6c130357",
   "metadata": {
    "tags": []
   },
   "outputs": [],
   "source": [
    "def get_elapsed_time(df: pd.DataFrame) -> pd.DataFrame:\n",
    "    return (df.groupby('trip',).last().time - df.groupby('trip', ).first().time).to_frame().reset_index().rename(columns={'time': 'elapsed_time'})\n",
    "    \n",
    "    # return df.merge(elapsed_time, on=['trip'], how='inner')\n",
    "    "
   ]
  },
  {
   "cell_type": "code",
   "execution_count": 4,
   "id": "8c36cbbf-49f1-4a6b-8635-79b519f71945",
   "metadata": {
    "tags": []
   },
   "outputs": [
    {
     "data": {
      "text/html": [
       "<div>\n",
       "<style scoped>\n",
       "    .dataframe tbody tr th:only-of-type {\n",
       "        vertical-align: middle;\n",
       "    }\n",
       "\n",
       "    .dataframe tbody tr th {\n",
       "        vertical-align: top;\n",
       "    }\n",
       "\n",
       "    .dataframe thead th {\n",
       "        text-align: right;\n",
       "    }\n",
       "</style>\n",
       "<table border=\"1\" class=\"dataframe\">\n",
       "  <thead>\n",
       "    <tr style=\"text-align: right;\">\n",
       "      <th></th>\n",
       "      <th>trip</th>\n",
       "      <th>time</th>\n",
       "    </tr>\n",
       "  </thead>\n",
       "  <tbody>\n",
       "    <tr>\n",
       "      <th>0</th>\n",
       "      <td>data/01_raw/03-Mar-2023-1714.gpx</td>\n",
       "      <td>0 days 00:17:53</td>\n",
       "    </tr>\n",
       "    <tr>\n",
       "      <th>1</th>\n",
       "      <td>data/01_raw/18-Mar-2023-1213.gpx</td>\n",
       "      <td>0 days 00:02:09</td>\n",
       "    </tr>\n",
       "    <tr>\n",
       "      <th>2</th>\n",
       "      <td>data/01_raw/18-Mar-2023-1809Scy.gpx</td>\n",
       "      <td>0 days 00:10:02</td>\n",
       "    </tr>\n",
       "    <tr>\n",
       "      <th>3</th>\n",
       "      <td>data/01_raw/18-Mar-2023-1826.gpx</td>\n",
       "      <td>0 days 00:34:24</td>\n",
       "    </tr>\n",
       "    <tr>\n",
       "      <th>4</th>\n",
       "      <td>data/01_raw/19-Mar-2023-1822.gpx</td>\n",
       "      <td>0 days 02:23:36</td>\n",
       "    </tr>\n",
       "    <tr>\n",
       "      <th>5</th>\n",
       "      <td>data/01_raw/19-mar.-2023-1712.gpx</td>\n",
       "      <td>0 days 00:29:39</td>\n",
       "    </tr>\n",
       "    <tr>\n",
       "      <th>6</th>\n",
       "      <td>data/01_raw/2023-03-18_Mar_18,_2023_5_54_26_PM...</td>\n",
       "      <td>0 days 00:32:32</td>\n",
       "    </tr>\n",
       "    <tr>\n",
       "      <th>7</th>\n",
       "      <td>data/01_raw/2023-03-19_Mar_19,_2023_3_17_31_PM...</td>\n",
       "      <td>0 days 00:54:24.084000</td>\n",
       "    </tr>\n",
       "    <tr>\n",
       "      <th>8</th>\n",
       "      <td>data/01_raw/recovery.01-Mar-2022-1533.gpx</td>\n",
       "      <td>0 days 00:00:09</td>\n",
       "    </tr>\n",
       "    <tr>\n",
       "      <th>9</th>\n",
       "      <td>data/01_raw/recovery.05-Mar-2022.1025.gpx</td>\n",
       "      <td>1 days 15:21:14</td>\n",
       "    </tr>\n",
       "    <tr>\n",
       "      <th>10</th>\n",
       "      <td>data/01_raw/recovery.25-May-2022-0907.gpx</td>\n",
       "      <td>0 days 17:08:02.567000</td>\n",
       "    </tr>\n",
       "  </tbody>\n",
       "</table>\n",
       "</div>"
      ],
      "text/plain": [
       "                                                 trip                   time\n",
       "0                    data/01_raw/03-Mar-2023-1714.gpx        0 days 00:17:53\n",
       "1                    data/01_raw/18-Mar-2023-1213.gpx        0 days 00:02:09\n",
       "2                 data/01_raw/18-Mar-2023-1809Scy.gpx        0 days 00:10:02\n",
       "3                    data/01_raw/18-Mar-2023-1826.gpx        0 days 00:34:24\n",
       "4                    data/01_raw/19-Mar-2023-1822.gpx        0 days 02:23:36\n",
       "5                   data/01_raw/19-mar.-2023-1712.gpx        0 days 00:29:39\n",
       "6   data/01_raw/2023-03-18_Mar_18,_2023_5_54_26_PM...        0 days 00:32:32\n",
       "7   data/01_raw/2023-03-19_Mar_19,_2023_3_17_31_PM... 0 days 00:54:24.084000\n",
       "8           data/01_raw/recovery.01-Mar-2022-1533.gpx        0 days 00:00:09\n",
       "9           data/01_raw/recovery.05-Mar-2022.1025.gpx        1 days 15:21:14\n",
       "10          data/01_raw/recovery.25-May-2022-0907.gpx 0 days 17:08:02.567000"
      ]
     },
     "execution_count": 4,
     "metadata": {},
     "output_type": "execute_result"
    }
   ],
   "source": [
    "df_time = parse_datetime(df)\n",
    "df_time = get_elapsed_time(df_time)\n",
    "df_time"
   ]
  }
 ],
 "metadata": {
  "kernelspec": {
   "display_name": "Kedro (gpx_dashboard)",
   "language": "python",
   "name": "kedro_gpx_dashboard"
  },
  "language_info": {
   "codemirror_mode": {
    "name": "ipython",
    "version": 3
   },
   "file_extension": ".py",
   "mimetype": "text/x-python",
   "name": "python",
   "nbconvert_exporter": "python",
   "pygments_lexer": "ipython3",
   "version": "3.9.13"
  }
 },
 "nbformat": 4,
 "nbformat_minor": 5
}
